{
  "nbformat": 4,
  "nbformat_minor": 0,
  "metadata": {
    "colab": {
      "provenance": []
    },
    "kernelspec": {
      "name": "python3",
      "display_name": "Python 3"
    },
    "language_info": {
      "name": "python"
    }
  },
  "cells": [
    {
      "cell_type": "markdown",
      "source": [
        "**Create a vector (array) of 1XN dimension representing N-\n",
        "dimensional feature vector of a sample. Write a program to\n",
        "compute the mean and variance of the elements present in the\n",
        "array.**"
      ],
      "metadata": {
        "id": "uvQOpZxaBz6q"
      }
    },
    {
      "cell_type": "code",
      "execution_count": null,
      "metadata": {
        "id": "RDp4W1nUBq-Y"
      },
      "outputs": [],
      "source": [
        "import numpy as np\n",
        "n = int(input())\n",
        "sample_x = np.random.random_integers(1,10,size=n)\n",
        "print(sample_x)"
      ]
    },
    {
      "cell_type": "markdown",
      "source": [
        "**Sample Variance**"
      ],
      "metadata": {
        "id": "e1DcqIvsDkk6"
      }
    },
    {
      "cell_type": "code",
      "source": [
        "sum = 0\n",
        "for i in range(n):\n",
        "  sum = sum + (sample_x[i]- np.mean(sample_x))**2\n",
        "print(sum/n-1)"
      ],
      "metadata": {
        "id": "9qaEj1c4CRsE"
      },
      "execution_count": null,
      "outputs": []
    },
    {
      "cell_type": "markdown",
      "source": [
        "**Population Variance**"
      ],
      "metadata": {
        "id": "auBG-fmTEj3Y"
      }
    },
    {
      "cell_type": "code",
      "source": [
        "sum = 0\n",
        "for i in range(n):\n",
        "  sum = sum + (sample_x[i]- np.mean(sample_x))**2\n",
        "print(sum/n)"
      ],
      "metadata": {
        "id": "JPiPk-o6DmdD"
      },
      "execution_count": null,
      "outputs": []
    },
    {
      "cell_type": "markdown",
      "source": [
        "**Create two vectors each of dimension 1XM each representing N-\n",
        "dimensional feature vector of a sample. Write a program to\n",
        "compute the Covariance between them.**"
      ],
      "metadata": {
        "id": "I4gyanLhExxh"
      }
    },
    {
      "cell_type": "code",
      "source": [
        "n = int(input(\"Enter n\"))\n",
        "X = np.random.random_integers(1,20,n)\n",
        "Y = np.random.random_integers(7,10,n)\n",
        "print(X)\n",
        "print(Y)\n",
        "cov = np.sum((X - np.mean(X))*(Y-np.mean(Y)))\n",
        "cov = (cov)/n-1\n",
        "print(cov)"
      ],
      "metadata": {
        "id": "6GL1nM6MEpGE"
      },
      "execution_count": null,
      "outputs": []
    },
    {
      "cell_type": "markdown",
      "source": [
        "**Create two vectors each of dimension 1XN. Write a program to\n",
        "compute the Correlation between them.**"
      ],
      "metadata": {
        "id": "yIc4BbvPIKM9"
      }
    },
    {
      "cell_type": "code",
      "source": [
        "n = int(input(\"Enter n\"))\n",
        "X = np.random.random_integers(1,20,n)\n",
        "Y = np.random.random_integers(7,10,n)\n",
        "print(X)\n",
        "print(Y)\n",
        "cov = np.sum((X - np.mean(X))*(Y-np.mean(Y)))\n",
        "cov = (cov)/n-1\n",
        "print(cov)"
      ],
      "metadata": {
        "id": "BTHeOl0k-D3t"
      },
      "execution_count": null,
      "outputs": []
    },
    {
      "cell_type": "markdown",
      "source": [
        "**Create a Matrix of MXN dimension representing the M-dimensional\n",
        "feature vector for N number of samples i. e (i,j)th entry of the matrix\n",
        "represents the ith feature of jth sample. Write a program to compute\n",
        "the covariance matrix and correlation matrix.**"
      ],
      "metadata": {
        "id": "3l_cdZgmIgiR"
      }
    },
    {
      "cell_type": "code",
      "source": [
        "m = int(input())\n",
        "n = int(input())\n",
        "matrix = np.random.rand(m,n)\n",
        "print(\"Matrix\")\n",
        "print(matrix)\n",
        "print(\"Covariance Matrix\")\n",
        "cov = np.cov(matrix,bias=False)\n",
        "print(cov)\n",
        "print(\"Correlation Matrix\")\n",
        "corr = np.corrcoef(matrix)\n",
        "print(corr)"
      ],
      "metadata": {
        "id": "0YOhXTSVIZZx"
      },
      "execution_count": null,
      "outputs": []
    }
  ]
}